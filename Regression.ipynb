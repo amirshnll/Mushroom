{
 "cells": [
  {
   "cell_type": "code",
   "execution_count": 1,
   "metadata": {},
   "outputs": [],
   "source": [
    "# Author : Amir Shokri\n",
    "# github link : https://github.com/amirshnll/Mushroom\n",
    "# dataset link : http://archive.ics.uci.edu/ml/datasets/Mushroom\n",
    "# email : amirsh.nll@gmail.com"
   ]
  },
  {
   "cell_type": "code",
   "execution_count": 3,
   "metadata": {},
   "outputs": [
    {
     "name": "stdout",
     "output_type": "stream",
     "text": [
      "accuracy is :  0.9815733522324592\n"
     ]
    }
   ],
   "source": [
    "import pandas as pd\n",
    "from sklearn import metrics\n",
    "from sklearn.linear_model import LogisticRegression\n",
    "from sklearn.model_selection import train_test_split\n",
    "\n",
    "d = pd.read_csv('Mushroom.csv')\n",
    "d.head()\n",
    "\n",
    "x = d.drop('type',axis=1)\n",
    "y = d.type\n",
    "\n",
    "x_train,x_test,y_train,y_test = train_test_split(x,y)\n",
    "r = LogisticRegression(C=10.0,random_state=10,solver='liblinear')\n",
    "r.fit(x_train,y_train)\n",
    "y_pred = r.predict(x_test)\n",
    "\n",
    "accuracy = metrics.accuracy_score(y_test,y_pred)\n",
    "print(\"accuracy is : \",accuracy)"
   ]
  }
 ],
 "metadata": {
  "kernelspec": {
   "display_name": "Python 3",
   "language": "python",
   "name": "python3"
  },
  "language_info": {
   "codemirror_mode": {
    "name": "ipython",
    "version": 3
   },
   "file_extension": ".py",
   "mimetype": "text/x-python",
   "name": "python",
   "nbconvert_exporter": "python",
   "pygments_lexer": "ipython3",
   "version": "3.8.3"
  }
 },
 "nbformat": 4,
 "nbformat_minor": 4
}
